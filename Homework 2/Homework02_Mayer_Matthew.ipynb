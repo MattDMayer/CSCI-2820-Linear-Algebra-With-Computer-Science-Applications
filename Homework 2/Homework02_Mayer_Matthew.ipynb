{
 "cells": [
  {
   "cell_type": "markdown",
   "metadata": {},
   "source": [
    "---\n",
    "\n",
    "# CSCI 2820, Spring 2022\n",
    "# Homework 2\n",
    "# Due: Friday January 28, 2022 at 11:59 PM\n",
    "\n",
    "<br> \n",
    "\n",
    "### Your name:\n",
    "\n",
    "<br> "
   ]
  },
  {
   "cell_type": "markdown",
   "metadata": {},
   "source": [
    "## Problem 1\n",
    "\n",
    "A unit mass moves on a straight line (in one dimension). The position of the mass at time $t$ (in seconds) is denoted by $s(t)$, and its derivatives (the velocity and acceleration) by $s'(t)$ and $s''(t)$. The position as a function of time can be determined from Newton's second law \n",
    "$$ s''(t) = F(t) $$\n",
    "where $F(t)$ is the force applied at time $t$, and the initial conditions $s(0),s'(0)$. We assume $F(t)$ is piecewise-constant, and is kept constant iin intervals of one second. The sequence of forces $F(t)$, for $0 \\leq t < 10$, can be represented by a 10-vector $f$, with \n",
    "$$F(t) = f_k, \\ \\ \\ k-1 \\leq t < k $$"
   ]
  },
  {
   "cell_type": "markdown",
   "metadata": {},
   "source": [
    "---\n",
    "**Derive expressions for the final velocity $s'(10)$. Show that $s'(10)$ is an affine function of $x$, and give 10-vector $a$ and constants $b$ for which:\n",
    "$$s'(10) = a^Tf+b$$**\n",
    "\n",
    "---\n",
    "This means that the mapping from the applied force sequence to the final velocity is affine. \n",
    "\n",
    "Hint: You can use that $$s'(t) = s'(0) + \\int_0^t F(\\tau) \\ d\\tau,$$\n"
   ]
  },
  {
   "cell_type": "markdown",
   "metadata": {},
   "source": [
    "---\n",
    "A note about your writeup: You may use the markdown cell below to latex your solution. If you do this, you  will recieve +1 extra credit points for this problem. You may also handwrite your solution and use the markdown cell below to include an image of your written work (Edit -> Insert Image). There is no extra credit point for including an image of handwritten work.\n",
    "\n",
    "---"
   ]
  },
  {
   "cell_type": "markdown",
   "metadata": {
    "tags": []
   },
   "source": [
    "$$s''(t)=F(t)\\\\\n",
    "F(t) = f_k, k-1\\leq t < k\\\\\n",
    "s'(t) = s'(0) + \\int_0^t F(\\tau) \\ d\\tau \\\\\n",
    "s'(10) = s'(0) +\\int_0^{10} F(\\tau) \\ d\\tau$$ \n",
    "F(t) is a piecewise-constant by given and is kept constant in intervals of one second by given. So,\n",
    "$$s'(10) = s'(0) + \\int_0^{1} F(\\tau) \\ d\\tau + \\int_0^{2} F(\\tau) \\ d\\tau + ... + \\int_0^{10} F(\\tau) \\ d\\tau$$$$$$\n",
    "Since $F(t) = f_k, k-1\\leq t < k$, \n",
    "$$s'(10) = s'(0) + \\int_0^{1} f_1 \\ d\\tau + \\int_0^{2} f_2 \\ d\\tau + ... + \\int_0^{10} f_{10} \\ d\\tau$$$$$$\n",
    "$$s'(10) = s'(0) + f_1 + f_2+ ... +f_{10}$$\n",
    "Knowing that F(t) is constant in one second intervals we can use an arbitrary variable x.\n",
    "$$s'(10) = s'(0) +f_1(x)+f_2(x)+...+f_{10}(x)$$\n",
    "Above is the final expression for the final velocity $s'(10)$\n",
    "\n",
    "\n",
    "Now to show that $s'(10)$ is an affine function of x we take the expression:\n",
    "$$s'(10) = s'(0) +f_1(x)+f_2(x)+...+f_{10}(x)$$\n",
    "$$s'(10) = b + a^Tf$$\n",
    "Since this is a linear function with a constant added, it is an affine function.\n",
    "$$a^T = [1,1,1,1,1,1,1,1,1,1]$$\n",
    "$a^T$ is a vector of 1's as each interval takes place over one second each.\n",
    "\\begin{align}\n",
    "f &= \\begin{bmatrix}\n",
    "f_1\\\\\n",
    "f_2\\\\\n",
    "\\vdots\\\\\n",
    "f_{10}\n",
    "\\end{bmatrix}\n",
    "\\end{align}\n",
    "$$b=s'(0)$$\n",
    "Above $a$ and $b$ are defined."
   ]
  },
  {
   "cell_type": "markdown",
   "metadata": {},
   "source": [
    "---\n",
    "## Problem 2\n",
    "\n",
    "**Part A:** Show that the following function is a linear function by showing that it has the property of superposition. Here, assume that $\\vec{x}$ is an arbitrary $n-$vector with $n \\geq 10$.\n",
    "\n",
    "$$f(\\vec{x}) = x_2+x_4+x_6+x_8+x_{10} $$"
   ]
  },
  {
   "cell_type": "markdown",
   "metadata": {},
   "source": [
    "$$f(\\alpha\\vec{x}+\\beta\\vec{y}) = f(\\alpha\\vec{x}) +f(\\beta\\vec{y}) $$\n",
    "$$\\alpha f(\\vec{x})=\\alpha[x_2+x_4+x_6+x_8+x_{10}]$$\n",
    "$$\\beta f(\\vec{y})=\\beta[y_2+y_4+y_6+y_8+y_{10}]$$\n",
    "\n",
    "$$f(\\alpha\\vec{x}) +f(\\beta\\vec{y}) = \\alpha x_2 + \\alpha x_4 + \\alpha x_6 + \\alpha x_8 + \\alpha x_{10} + \\beta y_2 +\\beta y_4 +\\beta y_6 +\\beta y_8 +\\beta y_{10}$$\n",
    "$$[\\alpha x_2 + \\beta y_2] + [\\alpha x_4 +\\beta y_4] +[\\alpha x_6 +\\beta y_6] +[\\alpha x_8 +\\beta y_8] +[\\alpha x_{10}+ \\beta y_{10}]$$\n",
    "$$=f(\\alpha\\vec{x}+\\beta\\vec{y})$$"
   ]
  },
  {
   "cell_type": "markdown",
   "metadata": {},
   "source": [
    "**Part B:** Now let $\\vec{x}$ be the 20-vector given below.\n",
    "\n",
    "$$ \\vec{x} = (1,2,3,4,5,6,7,8,9,10,11,12,13,14,15,16,17,18,19,20)$$\n",
    "\n",
    "Here, $x_1 = 1, x_2 = 2, ..., x_{20} = 20$. As you are coding, keeep in mind that Python is 0-indexed.\n",
    "\n",
    "Use Python to compute $f(\\vec{x})$ strictly as given by the definition above. i.e. You will be summing up 5 elements.\n",
    "\n"
   ]
  },
  {
   "cell_type": "code",
   "execution_count": 12,
   "metadata": {},
   "outputs": [
    {
     "name": "stdout",
     "output_type": "stream",
     "text": [
      "30\n"
     ]
    }
   ],
   "source": [
    "x = [1,2,3,4,5,6,7,8,9,10,11,12,13,14,15,16,17,18,19,20]\n",
    "fx= x[1] + x[3]+ x[5] +x[7]+x[9]\n",
    "print (fx)"
   ]
  },
  {
   "cell_type": "markdown",
   "metadata": {},
   "source": [
    "**Part C:** Now evaluate $f(\\vec{x})$ again, but this time use the inner product representation of the function. Do not use NumPy for this part. Instead use a loop to compute the inner product. Define $\\vec{x}$ and $\\vec{a}$ as simple python lists. As a check, you should get the same answer here as you did in **Part B**."
   ]
  },
  {
   "cell_type": "code",
   "execution_count": 14,
   "metadata": {},
   "outputs": [
    {
     "name": "stdout",
     "output_type": "stream",
     "text": [
      "30\n"
     ]
    }
   ],
   "source": [
    "a = [0,1,0,1,0,1,0,1,0,1, 0,0,0,0,0,0,0,0,0,0]\n",
    "x = [1,2,3,4,5,6,7,8,9,10,11,12,13,14,15,16,17,18,19,20]\n",
    "fx = 0\n",
    "for i in range(len(a)):\n",
    "    fx += a[i] * x[i]\n",
    "print (fx)"
   ]
  },
  {
   "cell_type": "markdown",
   "metadata": {},
   "source": [
    "**Part D:** Now evaluate $f(\\vec{x})$ again, but this time use Numpy and it's built-in dot product function. See the documentation here for syntax: https://numpy.org/doc/stable/reference/generated/numpy.dot.html"
   ]
  },
  {
   "cell_type": "code",
   "execution_count": 17,
   "metadata": {},
   "outputs": [
    {
     "name": "stdout",
     "output_type": "stream",
     "text": [
      "30\n"
     ]
    }
   ],
   "source": [
    "import numpy as np\n",
    "a = [0,1,0,1,0,1,0,1,0,1, 0,0,0,0,0,0,0,0,0,0]\n",
    "x = [1,2,3,4,5,6,7,8,9,10,11,12,13,14,15,16,17,18,19,20]\n",
    "print (np.dot(x,a,out=None))"
   ]
  },
  {
   "cell_type": "markdown",
   "metadata": {},
   "source": [
    "## Problem 3\n",
    "\n",
    "Now, we will use SciPy Stats to help us find the linear regression cooefficients for the data set `cars.csv`. Note that there is nothing for you to do in Parts A and B other than read, execute the cells, and interrpret the output. You'll be making interpretations of the output in Parts C and D."
   ]
  },
  {
   "cell_type": "markdown",
   "metadata": {},
   "source": [
    "**Part A:** Import cars.csv"
   ]
  },
  {
   "cell_type": "code",
   "execution_count": 8,
   "metadata": {},
   "outputs": [
    {
     "data": {
      "text/html": [
       "<div>\n",
       "<style scoped>\n",
       "    .dataframe tbody tr th:only-of-type {\n",
       "        vertical-align: middle;\n",
       "    }\n",
       "\n",
       "    .dataframe tbody tr th {\n",
       "        vertical-align: top;\n",
       "    }\n",
       "\n",
       "    .dataframe thead th {\n",
       "        text-align: right;\n",
       "    }\n",
       "</style>\n",
       "<table border=\"1\" class=\"dataframe\">\n",
       "  <thead>\n",
       "    <tr style=\"text-align: right;\">\n",
       "      <th></th>\n",
       "      <th>Car_Name</th>\n",
       "      <th>Year</th>\n",
       "      <th>Selling_Price</th>\n",
       "      <th>Present_Price</th>\n",
       "      <th>Kms_Driven</th>\n",
       "      <th>Fuel_Type</th>\n",
       "      <th>Seller_Type</th>\n",
       "      <th>Transmission</th>\n",
       "      <th>Owner</th>\n",
       "    </tr>\n",
       "  </thead>\n",
       "  <tbody>\n",
       "    <tr>\n",
       "      <th>0</th>\n",
       "      <td>ritz</td>\n",
       "      <td>2014</td>\n",
       "      <td>3.35</td>\n",
       "      <td>5.59</td>\n",
       "      <td>27000</td>\n",
       "      <td>Petrol</td>\n",
       "      <td>Dealer</td>\n",
       "      <td>Manual</td>\n",
       "      <td>0</td>\n",
       "    </tr>\n",
       "    <tr>\n",
       "      <th>1</th>\n",
       "      <td>sx4</td>\n",
       "      <td>2013</td>\n",
       "      <td>4.75</td>\n",
       "      <td>9.54</td>\n",
       "      <td>43000</td>\n",
       "      <td>Diesel</td>\n",
       "      <td>Dealer</td>\n",
       "      <td>Manual</td>\n",
       "      <td>0</td>\n",
       "    </tr>\n",
       "    <tr>\n",
       "      <th>2</th>\n",
       "      <td>ciaz</td>\n",
       "      <td>2017</td>\n",
       "      <td>7.25</td>\n",
       "      <td>9.85</td>\n",
       "      <td>6900</td>\n",
       "      <td>Petrol</td>\n",
       "      <td>Dealer</td>\n",
       "      <td>Manual</td>\n",
       "      <td>0</td>\n",
       "    </tr>\n",
       "    <tr>\n",
       "      <th>3</th>\n",
       "      <td>wagon r</td>\n",
       "      <td>2011</td>\n",
       "      <td>2.85</td>\n",
       "      <td>4.15</td>\n",
       "      <td>5200</td>\n",
       "      <td>Petrol</td>\n",
       "      <td>Dealer</td>\n",
       "      <td>Manual</td>\n",
       "      <td>0</td>\n",
       "    </tr>\n",
       "    <tr>\n",
       "      <th>4</th>\n",
       "      <td>swift</td>\n",
       "      <td>2014</td>\n",
       "      <td>4.60</td>\n",
       "      <td>6.87</td>\n",
       "      <td>42450</td>\n",
       "      <td>Diesel</td>\n",
       "      <td>Dealer</td>\n",
       "      <td>Manual</td>\n",
       "      <td>0</td>\n",
       "    </tr>\n",
       "  </tbody>\n",
       "</table>\n",
       "</div>"
      ],
      "text/plain": [
       "  Car_Name  Year  Selling_Price  Present_Price  Kms_Driven Fuel_Type  \\\n",
       "0     ritz  2014           3.35           5.59       27000    Petrol   \n",
       "1      sx4  2013           4.75           9.54       43000    Diesel   \n",
       "2     ciaz  2017           7.25           9.85        6900    Petrol   \n",
       "3  wagon r  2011           2.85           4.15        5200    Petrol   \n",
       "4    swift  2014           4.60           6.87       42450    Diesel   \n",
       "\n",
       "  Seller_Type Transmission  Owner  \n",
       "0      Dealer       Manual      0  \n",
       "1      Dealer       Manual      0  \n",
       "2      Dealer       Manual      0  \n",
       "3      Dealer       Manual      0  \n",
       "4      Dealer       Manual      0  "
      ]
     },
     "execution_count": 8,
     "metadata": {},
     "output_type": "execute_result"
    }
   ],
   "source": [
    "import pandas as pd\n",
    "\n",
    "dfCars = pd.read_csv(\"cars.csv\")\n",
    "dfCars.head()"
   ]
  },
  {
   "cell_type": "markdown",
   "metadata": {},
   "source": [
    "**Part B:** Run the following code to import and use the statsmodels package to generate a model."
   ]
  },
  {
   "cell_type": "code",
   "execution_count": 9,
   "metadata": {},
   "outputs": [
    {
     "name": "stderr",
     "output_type": "stream",
     "text": [
      "/opt/conda/lib/python3.9/site-packages/statsmodels/tsa/tsatools.py:142: FutureWarning: In a future version of pandas all arguments of concat except for the argument 'objs' will be keyword-only\n",
      "  x = pd.concat(x[::order], 1)\n"
     ]
    }
   ],
   "source": [
    "\n",
    "import statsmodels.api as sm \n",
    "\n",
    "# Collect the features in a 2D array \n",
    "X = dfCars[[\"Kms_Driven\",\"Year\"]]\n",
    "\n",
    "# Add a constant to the array for the intecept \n",
    "X = sm.add_constant(X)\n",
    "\n",
    "# Collect the response data in an array \n",
    "y = dfCars[\"Selling_Price\"]\n",
    "\n",
    "# Fit the ordinary least-squares (OLS) model \n",
    "model = sm.OLS(y, X).fit()"
   ]
  },
  {
   "cell_type": "code",
   "execution_count": 39,
   "metadata": {},
   "outputs": [
    {
     "data": {
      "text/plain": [
       "const        -1223.847081\n",
       "Kms_Driven       0.000028\n",
       "Year             0.609591\n",
       "dtype: float64"
      ]
     },
     "execution_count": 39,
     "metadata": {},
     "output_type": "execute_result"
    }
   ],
   "source": [
    "model.params"
   ]
  },
  {
   "cell_type": "markdown",
   "metadata": {},
   "source": [
    "**Part C:** The output from `model.params` given in **Part B** gives us everything we need to create a model of the form: $$ \\hat{y} = x^T \\beta + v$$\n",
    "\n",
    "Here, \"Kms_Driven\" and \"Year\" are the two entries in our $x-$ vector. And the constant term (const) is our offset. With that in mind, give the specific model that has been generated for us."
   ]
  },
  {
   "cell_type": "markdown",
   "metadata": {},
   "source": [
    "$\\hat{y}= [0.000028 , 0.609591]^T \n",
    "\\begin{align}\n",
    "\\begin{bmatrix}\n",
    "\\beta_1\\\\\n",
    "\\beta_2\\\\ \n",
    "\\end{bmatrix}\n",
    "\\end{align}\n",
    "- 1223.847081$ \n"
   ]
  },
  {
   "cell_type": "markdown",
   "metadata": {},
   "source": [
    "**Part D:** Answer the following questions:\n",
    "- What is your interpretation of the $\\beta_1$ coefficient? \n",
    "- What is your interpretation of the $\\beta_2$ coefficient.\n",
    "\n",
    "- What quantity is our model predicting?"
   ]
  },
  {
   "cell_type": "markdown",
   "metadata": {},
   "source": [
    "The $\\beta_1$ coefficient is the amount of kilometers driven on a given car being sold.\n",
    "The $\\beta_2$ coefficient is the difference between the current year and the year the car was manufactured.\n",
    "The quantity that the model is predicting is the selling price of a car."
   ]
  },
  {
   "cell_type": "markdown",
   "metadata": {},
   "source": [
    "## Problem 4\n",
    "\n",
    "In this problem, we will again utilize the `cars.csv` data.\n",
    "\n",
    "**Part A:** First we will isolate the `Fuel_Type` column. Execute the following cell to copy the `Fuel_Type` column from the dfCars dataframe to a variable also called `Fuel_Type`."
   ]
  },
  {
   "cell_type": "code",
   "execution_count": 10,
   "metadata": {},
   "outputs": [],
   "source": [
    "Fuel_Type = dfCars[\"Fuel_Type\"]"
   ]
  },
  {
   "cell_type": "markdown",
   "metadata": {},
   "source": [
    "**Part B:** If we think of `Fuel_Type` as a vector. How many entries does this vector have?\n"
   ]
  },
  {
   "cell_type": "code",
   "execution_count": 14,
   "metadata": {},
   "outputs": [
    {
     "name": "stdout",
     "output_type": "stream",
     "text": [
      "3\n"
     ]
    }
   ],
   "source": [
    "typesOfFuel = []\n",
    "for i in range (len(Fuel_Type)):\n",
    "    matching = False\n",
    "    for j in range (len(typesOfFuel)):\n",
    "        if Fuel_Type[i] == typesOfFuel[j]:\n",
    "            matching = True\n",
    "    if matching == False:\n",
    "        typesOfFuel.append(Fuel_Type[i])\n",
    "        \n",
    "print(len(typesOfFuel))"
   ]
  },
  {
   "cell_type": "markdown",
   "metadata": {},
   "source": [
    "3"
   ]
  },
  {
   "cell_type": "markdown",
   "metadata": {},
   "source": [
    "**Part C:** Use the idea of inner products to calculate the number of `Petrol` cars that there are for sale.\n",
    "\n",
    "A few hints:\n",
    "- It might be helpful to use a boolean variable to indicate whether a specific entry is `Petrol` or `Diesel`. I recommend making a vector of Boolean values (0s and 1s) that encodes this information.\n",
    "- Then do an inner product computation to answer the desired question."
   ]
  },
  {
   "cell_type": "code",
   "execution_count": 17,
   "metadata": {},
   "outputs": [
    {
     "name": "stdout",
     "output_type": "stream",
     "text": [
      "239\n"
     ]
    }
   ],
   "source": [
    "import numpy as np\n",
    "petrol = []\n",
    "for i in range (len(Fuel_Type)):\n",
    "    if Fuel_Type[i] == \"Petrol\":\n",
    "\n",
    "        petrol.append(1)\n",
    "    else:\n",
    "        petrol.append(0)\n",
    "temp =[]\n",
    "for j in range (len(Fuel_Type)):\n",
    "    temp.append(1)\n",
    "print (np.dot(temp,petrol,out=None))"
   ]
  },
  {
   "cell_type": "markdown",
   "metadata": {},
   "source": [
    "239\n"
   ]
  }
 ],
 "metadata": {
  "kernelspec": {
   "display_name": "Python 3 (ipykernel)",
   "language": "python",
   "name": "python3"
  },
  "language_info": {
   "codemirror_mode": {
    "name": "ipython",
    "version": 3
   },
   "file_extension": ".py",
   "mimetype": "text/x-python",
   "name": "python",
   "nbconvert_exporter": "python",
   "pygments_lexer": "ipython3",
   "version": "3.9.6"
  }
 },
 "nbformat": 4,
 "nbformat_minor": 4
}
