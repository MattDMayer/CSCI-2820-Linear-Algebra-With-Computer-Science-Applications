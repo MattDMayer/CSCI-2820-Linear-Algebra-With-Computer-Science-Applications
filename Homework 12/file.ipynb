{
 "cells": [
  {
   "cell_type": "markdown",
   "metadata": {},
   "source": [
    "---\n",
    "## Homework 12 - Model Validation and Feature Engineeriing \n",
    "---\n"
   ]
  },
  {
   "cell_type": "code",
   "execution_count": null,
   "metadata": {},
   "outputs": [],
   "source": [
    "import numpy as np \n",
    "from scipy import stats\n",
    "import sklearn\n",
    "import statsmodels.api as sm \n",
    "from sklearn.model_selection import train_test_split\n",
    "import pandas as pd\n",
    "import matplotlib.pylab as plt \n",
    "import numpy.linalg as npl\n",
    "%matplotlib inline"
   ]
  },
  {
   "cell_type": "markdown",
   "metadata": {},
   "source": [
    "### Problem 1:  \n",
    "\n",
    "**PART A:** Parker has been keeping careful track of how much ice cream he eats after his training runs. He has stored the data in `icecream.csv`, where his ice cream consumption is measured in number of scoops, and his run distances are saved in units of miles. In this exercise you will construct a least squares model for the response variable \"amount of ice cream consumed\" (`scoops`), using \"number of miles run\" (`miles`) as the feature. Execute the two cells below to load the data into a Pandas DataFrame.\n"
   ]
  },
  {
   "cell_type": "code",
   "execution_count": null,
   "metadata": {
    "scrolled": true
   },
   "outputs": [],
   "source": [
    "# file generation code:\n",
    "np.random.seed(3022)\n",
    "\n",
    "astar = 3\n",
    "bstar = 0.4\n",
    "sigma = 1\n",
    "\n",
    "n = 100\n",
    "runs = stats.uniform.rvs(loc=1.2345, scale=15, size=n)\n",
    "scoops = astar + bstar*runs + stats.norm.rvs(loc=0, scale=sigma, size=n)\n",
    "\n",
    "plt.scatter(runs, scoops)\n",
    "plt.xlim([0,17])\n",
    "plt.ylim([0,13])\n",
    "plt.show()\n",
    "\n",
    "dfIce = pd.DataFrame(data={'miles':runs, 'scoops':scoops})\n",
    "dfIce.to_csv(\"icecream.csv\", index=False)"
   ]
  },
  {
   "cell_type": "code",
   "execution_count": null,
   "metadata": {},
   "outputs": [],
   "source": [
    "dfTreats = pd.read_csv(\"icecream.csv\")\n",
    "dfTreats.head()"
   ]
  },
  {
   "cell_type": "markdown",
   "metadata": {},
   "source": [
    "**PART B:** Perform a simple linear regression (least squares fit) with `miles` as the feature and `scoops` as the response.  Report the estimated regression model in the form $Y = \\alpha + \\beta x$. Do all computations in Python."
   ]
  },
  {
   "cell_type": "code",
   "execution_count": null,
   "metadata": {},
   "outputs": [],
   "source": [
    "# Your code here."
   ]
  },
  {
   "cell_type": "markdown",
   "metadata": {},
   "source": [
    "**PART C:** Compute the RMS error of your model from **PART B**."
   ]
  },
  {
   "cell_type": "code",
   "execution_count": null,
   "metadata": {},
   "outputs": [],
   "source": [
    "# Your code here."
   ]
  },
  {
   "cell_type": "markdown",
   "metadata": {},
   "source": [
    "**PART D:** Use the code cell below to randomly draw a test set. In **Part E**, you will be performing an out-of-sample validation of your model."
   ]
  },
  {
   "cell_type": "code",
   "execution_count": null,
   "metadata": {},
   "outputs": [],
   "source": [
    "np.random.seed(2820)\n",
    "data = list(zip(dfTreats[\"miles\"],dfTreats[\"scoops\"]))\n",
    "\n",
    "np.random.shuffle(data)\n",
    "training_dataset, test_dataset = sklearn.model_selection.train_test_split(data, train_size=90, test_size=10)\n",
    "\n",
    "feature_test = []\n",
    "y_test = []\n",
    "for ii in range(len(test_dataset)):\n",
    "    feature_test.append(test_dataset[ii][0])\n",
    "    y_test.append(test_dataset[ii][1])\n",
    "    \n",
    "feature_train = []\n",
    "y_train = []\n",
    "for ii in range(len(training_dataset)):\n",
    "    feature_train.append(training_dataset[ii][0])\n",
    "    y_train.append(training_dataset[ii][1])\n",
    "    \n",
    "test_dict = {\"miles\":feature_test, \"scoops\":y_test}\n",
    "train_dict = {\"miles\":feature_train, \"scoops\":y_train}\n",
    "\n",
    "dfTestSet = pd.DataFrame(data=test_dict)\n",
    "dfTrainingSet = pd.DataFrame(data=train_dict)"
   ]
  },
  {
   "cell_type": "code",
   "execution_count": null,
   "metadata": {},
   "outputs": [],
   "source": [
    "dfTestSet.head()"
   ]
  },
  {
   "cell_type": "code",
   "execution_count": null,
   "metadata": {},
   "outputs": [],
   "source": [
    "dfTrainingSet.head()"
   ]
  },
  {
   "cell_type": "markdown",
   "metadata": {},
   "source": [
    "**PART E:** \n",
    "- Use out-of-sample validation to first fit a least squares fit to your training data. Make a scatter-plot of the data with `miles` as the feature and `scoops` as the response, and overlay the estimated regression line.  Clearly label all relevant plot elements and include a legend.\n"
   ]
  },
  {
   "cell_type": "code",
   "execution_count": null,
   "metadata": {},
   "outputs": [],
   "source": [
    "# Your code here."
   ]
  },
  {
   "cell_type": "markdown",
   "metadata": {},
   "source": [
    "**PART F:** Compute the RMS prediction error for the training data set AND the test data set.\n",
    "- Compare the RMS values, and comment on whether you think your model is a good model and whether or not you think it has good generalization ability."
   ]
  },
  {
   "cell_type": "code",
   "execution_count": null,
   "metadata": {},
   "outputs": [],
   "source": [
    "# RMS for training set"
   ]
  },
  {
   "cell_type": "code",
   "execution_count": null,
   "metadata": {},
   "outputs": [],
   "source": [
    "# RMS for training set"
   ]
  },
  {
   "cell_type": "markdown",
   "metadata": {},
   "source": []
  },
  {
   "cell_type": "markdown",
   "metadata": {},
   "source": [
    "### Problem 2:  \n",
    "\n",
    "**PART A:** A randomized control study was performed with $18$ subjects to investigate the effect of exercise and diet on weight loss.  All $18$ subjects of the study exercised on a daily basis, one third of the subjects ate their regular diet, one third of subjects ate based on Diet $A$, and one third of subjects ate based on Diet $B$.  The observed weight loss after one week is summarized in the following data. "
   ]
  },
  {
   "cell_type": "code",
   "execution_count": null,
   "metadata": {},
   "outputs": [],
   "source": [
    "dfA = pd.DataFrame({\"Control\": np.array([4,8,7,5,1,5]),\"Diet A\": np.array([5,4,4,3,9,4]),\"Diet B\": np.array([9,8,8,10,5,10])})\n",
    "dfA.head(10)"
   ]
  },
  {
   "cell_type": "markdown",
   "metadata": {},
   "source": [
    "**PART B:** Using python, set up a design matrix to expand this categorical problem with 3 values using 2 features."
   ]
  },
  {
   "cell_type": "code",
   "execution_count": null,
   "metadata": {},
   "outputs": [],
   "source": [
    "# Your code here."
   ]
  },
  {
   "cell_type": "markdown",
   "metadata": {},
   "source": [
    "**PART C:** Use python to fit a linear regression where the features are binary categorical variables associated with group membership."
   ]
  },
  {
   "cell_type": "code",
   "execution_count": null,
   "metadata": {},
   "outputs": [],
   "source": [
    "# Your code here."
   ]
  },
  {
   "cell_type": "markdown",
   "metadata": {},
   "source": [
    "**PART D:** Briefly summarize your model. Do you think one diet yields more weightloss than another? Do either of the diets yield a significant amount more weightloss than the control group?"
   ]
  },
  {
   "cell_type": "markdown",
   "metadata": {},
   "source": []
  }
 ],
 "metadata": {
  "kernelspec": {
   "display_name": "Python 3 (ipykernel)",
   "language": "python",
   "name": "python3"
  },
  "language_info": {
   "codemirror_mode": {
    "name": "ipython",
    "version": 3
   },
   "file_extension": ".py",
   "mimetype": "text/x-python",
   "name": "python",
   "nbconvert_exporter": "python",
   "pygments_lexer": "ipython3",
   "version": "3.9.6"
  }
 },
 "nbformat": 4,
 "nbformat_minor": 4
}
