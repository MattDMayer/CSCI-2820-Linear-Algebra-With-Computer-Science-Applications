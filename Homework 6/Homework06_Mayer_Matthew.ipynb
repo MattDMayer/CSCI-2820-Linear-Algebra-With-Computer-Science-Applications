{
 "cells": [
  {
   "cell_type": "markdown",
   "metadata": {},
   "source": [
    "---\n",
    "## Homework 06 - Matrices\n",
    "---\n"
   ]
  },
  {
   "cell_type": "markdown",
   "metadata": {},
   "source": [
    "### Problem 1:  \n",
    "\n",
    "An $n \\times n$ matrix $A$  is called skew-symmetric if $A^T = -A$\n",
    "\n",
    "Find all $2 \\times 2$ skew-symmetric matrices.\n",
    "\n",
    "Hint: There are infinitely many, so you are looking for a general way to express this type of matrix."
   ]
  },
  {
   "cell_type": "markdown",
   "metadata": {},
   "source": [
    "**Solution:** The following are the two ways to express all $2 \\times 2$ skew-symmetric matrices where a is an arbitrary value.\n",
    "\\begin{bmatrix}\n",
    "0 & -a\\\\\n",
    "a & 0\n",
    "\\end{bmatrix}\n",
    "\n",
    "\\begin{bmatrix}\n",
    "0 & a\\\\\n",
    "-a & 0\n",
    "\\end{bmatrix}\n",
    "An $n \\times n$ matrix must have a leading diagonal from the top left corner to the bottom right corner that is all zeros for $A^T = -A$ Otherewise the matrix will never be symetrical. Across this diagonal the values must be opposite so that way the flip keeps the matrix skew symmetric. In a $2 \\times 2$ case, the above two ways are the only ways to get skew-symmetric matrices. "
   ]
  },
  {
   "cell_type": "markdown",
   "metadata": {},
   "source": [
    "### Problem 2:"
   ]
  },
  {
   "cell_type": "markdown",
   "metadata": {},
   "source": [
    "Suppose $A$ is an $m \\times n$ matrix and $x$ is an $n-$vector. A famous inequality relates $||x||, ||A||,$ and $||Ax||$:\n",
    "$$||Ax|| \\leq ||A|| \\ ||x||$$\n",
    "\n",
    "Verify this inequality.\n",
    "\n",
    "Hint: Use the Cauchy-Schwarz inequality to get that $(a_i^Tx)^2 \\leq ||a_i||^2 ||x||^2$, where $a_i^T$ is the $i^{th}$ row of matrix $A$."
   ]
  },
  {
   "cell_type": "markdown",
   "metadata": {},
   "source": [
    "**Solution:** \n",
    "Since \n",
    "$a^T_i$ is the $i$th row of matrix A.\n",
    "\n",
    "$A = \\begin{bmatrix}\n",
    "a^T_1,\n",
    "a^T_2,\n",
    "...,\n",
    "a^T_i,\n",
    "...,\n",
    "a^T_m\\end{bmatrix}$\n",
    "\n",
    "$Ax = \\begin{bmatrix}\n",
    "a^T_1x,\n",
    "a^T_2x,\n",
    "...,\n",
    "a^T_ix,\n",
    "...,\n",
    "a^T_mx\\end{bmatrix}$\n",
    "\n",
    "Applying Cauchy-Schwarz to the $i$^{th} row of matrix $Ax$:\n",
    "\n",
    "$(a^T_ix)^2\\leq||a^T_i||^2||x||^2$\n",
    "\n",
    "This applies for all of the rows which yields:\n",
    "\n",
    "$(a^T_1x)^2 + (a^T_2x)^2 + ... + (a^T_ix)^2 + ... + (a^T_mx)^2 \\leq ||a^T_1||^2||x||^2 + ||a^T_2||^2||x||^2 + ... + ||a^T_i||^2||x||^2 + ... + ||a^T_m||^2||x||^2$\n",
    "\n",
    "$(a^T_1x)^2 + (a^T_2x)^2 + ... + (a^T_ix)^2 + ... + (a^T_mx)^2 \\leq (||a^T_1||^2 + ||a^T_2||^2| + ... + ||a^T_i||^2| + ... + ||a^T_m||^2)||x||^2$\n",
    "\n",
    "$\\sqrt{(a^T_1x)^2 + (a^T_2x)^2 + ... + (a^T_ix)^2 + ... + (a^T_mx)^2} \\leq \\sqrt{(||a^T_1||^2 + ||a^T_2||^2| + ... + ||a^T_i||^2| + ... + ||a^T_m||^2)||x||^2}$\n",
    "\n",
    "The left side becomes the $Ax$ vector.\n",
    "\n",
    "$\\begin{bmatrix}\n",
    "a^T_1x,\n",
    "a^T_2x,\n",
    "...,\n",
    "a^T_ix,\n",
    "...,\n",
    "a^T_mx\\end{bmatrix} \\leq \\sqrt{(||a^T_1||^2 + ||a^T_2||^2| + ... + ||a^T_i||^2| + ... + ||a^T_m||^2)||x||^2}$\n",
    "\n",
    "\n",
    "$\\begin{bmatrix}\n",
    "a^T_1x,\n",
    "a^T_2x,\n",
    "...,\n",
    "a^T_ix,\n",
    "...,\n",
    "a^T_mx\\end{bmatrix} \\leq \\sqrt{(||a^T_1||^2 + ||a^T_2||^2| + ... + ||a^T_i||^2| + ... + ||a^T_m||^2)}||x||$\n",
    "\n",
    "This then becomes:\n",
    "\n",
    "$\\begin{bmatrix}\n",
    "a^T_1x,\n",
    "a^T_2x,\n",
    "...,\n",
    "a^T_ix,\n",
    "...,\n",
    "a^T_mx\\end{bmatrix} \\leq \\begin{bmatrix} a^T_1,\n",
    "a^T_2,\n",
    "...,\n",
    "a^T_i,\n",
    "...,\n",
    "a^T_m\\end{bmatrix} ||x||$ \n",
    "\n",
    "$||Ax|| \\leq ||A|| ||x||$"
   ]
  },
  {
   "cell_type": "markdown",
   "metadata": {},
   "source": [
    "### Problem 3:\n",
    "\n"
   ]
  },
  {
   "cell_type": "markdown",
   "metadata": {},
   "source": [
    "Write a function called `mat_vec` that takes an $n \\times n$ matrix $A$ and an $n-$vector $x$ as input and returns the product. \n",
    "\n",
    "- Do not use any built in dot products or inner product functions. You'll need a nested for loop.\n",
    "\n",
    "- Use the code provided below, and enter your code where indicated. Note that I am having you time your function for $5000 \\times 5000$ matrix. You will be comparing the time your algorithm takes here without using \"vectorization\" with how much faster it can be by utilizing vectorization. \n",
    "\n",
    "- Once you've written your own function, test it on the following product (code for test already given below): \n",
    "\n",
    "$\\begin{bmatrix} 1 & 1 & 1 \\\\ 2 & 2 & 2 \\\\ 3 & 3 & 3 \\end{bmatrix} \\cdot \\begin{bmatrix} 1 \\\\ 1 \\\\ 1  \\end{bmatrix}$\n"
   ]
  },
  {
   "cell_type": "code",
   "execution_count": 10,
   "metadata": {},
   "outputs": [],
   "source": [
    "import numpy as np\n",
    "import time\n",
    "\n",
    "def mat_vec(A,x):\n",
    "    \n",
    "    final = []\n",
    "    for i in range(len(A[0])):\n",
    "        dots = 0\n",
    "        for j in range(len(x)):\n",
    "            dots += x[j] * A[i][j]\n",
    "        final.append(dots)\n",
    "    return final\n",
    "    "
   ]
  },
  {
   "cell_type": "code",
   "execution_count": 11,
   "metadata": {},
   "outputs": [
    {
     "data": {
      "text/plain": [
       "[3, 6, 9]"
      ]
     },
     "execution_count": 11,
     "metadata": {},
     "output_type": "execute_result"
    }
   ],
   "source": [
    "# Test your function here:\n",
    "A = np.array([[1,1,1],[2,2,2],[3,3,3]])\n",
    "x = np.array([1,1,1])\n",
    "mat_vec(A,x)"
   ]
  },
  {
   "cell_type": "code",
   "execution_count": 13,
   "metadata": {},
   "outputs": [
    {
     "name": "stdout",
     "output_type": "stream",
     "text": [
      "Your matrix-vector product function took this long: 78.84127426147461\n"
     ]
    }
   ],
   "source": [
    "# Once you've written your function, execute this cell and see how slow loops are in Python!\n",
    "\n",
    "A = np.ones((5000,5000))\n",
    "x = np.ones((5000,1))\n",
    "\n",
    "start = time.time()\n",
    "mat_vec(A,x)\n",
    "elapsed = time.time()-start\n",
    "\n",
    "print(\"Your matrix-vector product function took this long:\",elapsed)"
   ]
  },
  {
   "cell_type": "markdown",
   "metadata": {
    "tags": []
   },
   "source": [
    "### Problem 4: \n",
    "\n",
    "In this problem, you will write two functions to compute the matrix-vector product of an $n \\times n$ matrix $A$ and a column vector $x$, of length $n$."
   ]
  },
  {
   "cell_type": "markdown",
   "metadata": {},
   "source": [
    "**PART A:** Write a function called `axrow` that takes as arguments an $n \\times n$ matrix $A$ and a length $n$ vector $x$ and returns the result of computing the matrix-vector product $b=Ax$ by the row-vector rule. Use vector operations only (that is, don't access elements of  $A$ or $x$  individually.) The value $b$ returned by your function can be a column vector or a row vector."
   ]
  },
  {
   "cell_type": "code",
   "execution_count": 16,
   "metadata": {},
   "outputs": [],
   "source": [
    "import numpy as np\n",
    "def axrow(A,x):\n",
    "    final =[]\n",
    "    for i in range(len(A)):\n",
    "        final.append(np.dot(A[i], x))\n",
    "    return final"
   ]
  },
  {
   "cell_type": "code",
   "execution_count": 17,
   "metadata": {},
   "outputs": [
    {
     "data": {
      "text/plain": [
       "[3, 6, 9]"
      ]
     },
     "execution_count": 17,
     "metadata": {},
     "output_type": "execute_result"
    }
   ],
   "source": [
    "# test\n",
    "A = np.array([[1,1,1],[2,2,2],[3,3,3]])\n",
    "x = np.array([1,1,1])\n",
    "axrow(A,x)"
   ]
  },
  {
   "cell_type": "markdown",
   "metadata": {},
   "source": [
    "**PART B:** Write a function called `axcol` that takes as arguments an $n \\times n$ matrix $A$, and a length $n$ vector $x$ and returns thee result of computing the matrix-vector product $b=AX$ by taking a linear combination of the columns of $A$. Use vector operations whenever possible. The value $B$ returned by your function can be a column vector or a row vector **just be sure that you return the same type of vector as you did in PART A**."
   ]
  },
  {
   "cell_type": "code",
   "execution_count": 13,
   "metadata": {},
   "outputs": [],
   "source": [
    "import numpy as np\n",
    "def axcol(A,x):\n",
    "    final=[]\n",
    "    for i in range(len(x)):\n",
    "        dots=0\n",
    "        for j in range(len(x)):\n",
    "            dots=np.sum(A[i]*x)\n",
    "        final.append(dots)\n",
    "    return (final)"
   ]
  },
  {
   "cell_type": "code",
   "execution_count": 14,
   "metadata": {},
   "outputs": [
    {
     "data": {
      "text/plain": [
       "[3, 6, 9]"
      ]
     },
     "execution_count": 14,
     "metadata": {},
     "output_type": "execute_result"
    }
   ],
   "source": [
    "# test\n",
    "A = np.array([[1,1,1],[2,2,2],[3,3,3]])\n",
    "x = np.array([1,1,1])\n",
    "axcol(A,x)"
   ]
  },
  {
   "cell_type": "markdown",
   "metadata": {},
   "source": [
    "**PART C:** The time required for a numerical program to run on a computer is determined by the number of floating-point operations performed and by the cost of memory access. The cost of the floating-point operations can usually be determined analytically, but the cost of memory access can be harder to determine. The memory access cost depends on the amount of data used, the order in which the data is accessed, and the structure of the computer itself.\n",
    "\n",
    "The memory hierarchy of a typical cache-based computer includes, in order of increasing size and distance from the CPU: the registers, the caches, the main memory, and the disk. The time reequiired to access data from these components increases dramatically with distance from the CPU. For example, the access of a small amount of data from the cache may take as little as one clock cycle to complete, while the same access from main memory can take tens of clock cycles. (A clock cycle on a modern processor is typically on the order of a few nanoseconds.) The time to access the disk can be substantially longer, with access times growing into seconds or minutes in extreme cases. The access times grow proportionally as the amount of data increases.\n",
    "\n",
    "A good numerical program is thus structured to avoid disk access as much as possible, both by reducing the amount of data used and by organizing its access to make the best use of memory hierarchy. Best performance is achieved by programs that also move little data in and out of main memory. In this part of the problem, we'll study how to organize some matrix computations to minimize the amount of distant memory accessed by minimizing the amount of data moved.\n",
    "\n",
    "How to make optimal use of a memory hierarchy (particularly the caches) is a matter of active research. In this class, we'll be concerned primarily with the large order effects of reducing main memory or disk access.\n",
    "\n",
    "In computations involving matrices, performance is strongly dependent on how the matrix is stored. An $m\\times n$ matrix is stored as a one-dimensional array with $mn$ elements. The array is arranged either in _row-major order_ or in _column-major order_. A row-major storage scheme has the rows of the matrix stored one after the other as a vector, while the column-major scheme has the columns stored one after the other. For example, the row-major and the column-major schemes translate the following matrix\n",
    "$$A = \\begin{bmatrix} 1 & 2 & 3 \\\\ 4 & 5 & 6 \\\\ 7 & 8 & 9 \\end{bmatrix} $$\n",
    "\n",
    "into $v_r = \\begin{bmatrix} 1 & 2 & 3 & 4 & 5 & 6 & 7 & 8 & 9 \\end{bmatrix}$ and $v_c = \\begin{bmatrix} 1 & 4 & 7 & 2 & 5 & 8 & 3 & 6 & 9 \\end{bmatrix}$, respectively.\n",
    "\n",
    "An efficient matrix algebra routine uses the elements in the order as they appear in the one-dimensional array. Programs written in C use row-major order while programs written in Fortran use column-major order.\n",
    "\n",
    "We will run our own experiment to see whether Python/NumPy uses row-major order or column major order.\n",
    "\n",
    "---\n",
    "\n",
    "Fill in the `timing_test` function below to have it perform the following tasks:\n",
    "\n",
    "- Call your `axrow` function from above on the following matrix sizes (n):\n",
    "$$[100, 200, 500,1000,1500,2000,2500,5000]$$\n",
    "  Record the time it takes your function to execute for each dimension.\n",
    "  \n",
    "- Call your `axcol` function from above on the following matrix sizes (n):\n",
    "$$[100, 200, 500,1000,1500,2000,2500,5000]$$\n",
    "  Record the time it takes your function to execute for each dimension.\n",
    "  \n",
    "- Compute the matrix-vector product using the `numpy.dot()` function, again on the matrix sizes:\n",
    "$$[100, 200, 500,1000,1500,2000,2500,5000]$$\n",
    "  Record the time it takes this built-in function to execute for each dimension.\n",
    "  \n",
    "- The `timing_test` function should return three lists: axrow_times, axcol_times, numpy_times\n",
    "\n",
    "- Use the given code to plot the matrix dimension by the corresponding times for each of the three function calls. "
   ]
  },
  {
   "cell_type": "code",
   "execution_count": 28,
   "metadata": {},
   "outputs": [],
   "source": [
    "import numpy as np\n",
    "import time\n",
    "def axrow(A,x):\n",
    "    final =[]\n",
    "    for i in range(len(A)):\n",
    "        final.append(np.dot(A[i], x))\n",
    "    return final\n",
    "\n",
    "def timing_test():\n",
    "    A = []\n",
    "    x = []\n",
    "    for i in range (100):\n",
    "        x.append(i)\n",
    "        for j in range (100):\n",
    "            A.append(i)   \n",
    "    axrow(A,x)"
   ]
  },
  {
   "cell_type": "code",
   "execution_count": 29,
   "metadata": {},
   "outputs": [
    {
     "ename": "TypeError",
     "evalue": "cannot unpack non-iterable NoneType object",
     "output_type": "error",
     "traceback": [
      "\u001b[0;31m---------------------------------------------------------------------------\u001b[0m",
      "\u001b[0;31mTypeError\u001b[0m                                 Traceback (most recent call last)",
      "\u001b[0;32m/tmp/ipykernel_119/2080265980.py\u001b[0m in \u001b[0;36m<module>\u001b[0;34m\u001b[0m\n\u001b[1;32m      3\u001b[0m \u001b[0;32mimport\u001b[0m \u001b[0mmatplotlib\u001b[0m\u001b[0;34m.\u001b[0m\u001b[0mpyplot\u001b[0m \u001b[0;32mas\u001b[0m \u001b[0mplt\u001b[0m\u001b[0;34m\u001b[0m\u001b[0;34m\u001b[0m\u001b[0m\n\u001b[1;32m      4\u001b[0m \u001b[0;34m\u001b[0m\u001b[0m\n\u001b[0;32m----> 5\u001b[0;31m \u001b[0mtimer\u001b[0m\u001b[0;34m,\u001b[0m\u001b[0mtimec\u001b[0m\u001b[0;34m,\u001b[0m\u001b[0mtimen\u001b[0m \u001b[0;34m=\u001b[0m \u001b[0mtiming_test\u001b[0m\u001b[0;34m(\u001b[0m\u001b[0;34m)\u001b[0m\u001b[0;34m\u001b[0m\u001b[0;34m\u001b[0m\u001b[0m\n\u001b[0m\u001b[1;32m      6\u001b[0m \u001b[0mmatrix_sizes\u001b[0m \u001b[0;34m=\u001b[0m \u001b[0;34m[\u001b[0m\u001b[0;36m100\u001b[0m\u001b[0;34m,\u001b[0m \u001b[0;36m200\u001b[0m\u001b[0;34m,\u001b[0m \u001b[0;36m500\u001b[0m\u001b[0;34m,\u001b[0m \u001b[0;36m1000\u001b[0m\u001b[0;34m,\u001b[0m \u001b[0;36m1500\u001b[0m\u001b[0;34m,\u001b[0m \u001b[0;36m2000\u001b[0m\u001b[0;34m,\u001b[0m \u001b[0;36m2500\u001b[0m\u001b[0;34m,\u001b[0m \u001b[0;36m5000\u001b[0m\u001b[0;34m]\u001b[0m\u001b[0;34m\u001b[0m\u001b[0;34m\u001b[0m\u001b[0m\n\u001b[1;32m      7\u001b[0m \u001b[0;34m\u001b[0m\u001b[0m\n",
      "\u001b[0;31mTypeError\u001b[0m: cannot unpack non-iterable NoneType object"
     ]
    }
   ],
   "source": [
    "# Plotting - nothing to do here other than execute this cell.\n",
    "\n",
    "import matplotlib.pyplot as plt\n",
    "\n",
    "timer,timec,timen = timing_test()\n",
    "matrix_sizes = [100, 200, 500, 1000, 1500, 2000, 2500, 5000]\n",
    "\n",
    "plt.plot(matrix_sizes,timer)\n",
    "plt.plot(matrix_sizes,timec)\n",
    "plt.plot(matrix_sizes,timen)\n",
    "\n",
    "plt.legend([\"Row\",\"Col\",\"Numpy\"])\n",
    "plt.xlabel(\"Matrix Dimension (n)\")\n",
    "plt.ylabel(\"Time\")\n",
    "\n",
    "plt.show()"
   ]
  },
  {
   "cell_type": "markdown",
   "metadata": {},
   "source": [
    "**PART D:** Using the plot that you generated in **PART C**, do you think that Python/NumPy uses row-major order or column-major order? Also, how to the times compare with what you found in **Problem 3**?"
   ]
  },
  {
   "cell_type": "markdown",
   "metadata": {},
   "source": [
    "**Solution:** Looks like row-major! NumPy uses row major order for it's calculations and storage. All of these methods in problem 4 are signifigantly faster than the double nested loop in problem 3.\n",
    "\n",
    "Also, the products computed in Problem 4 are all _significantly_ faster than the nested for loop from Problem 3."
   ]
  },
  {
   "cell_type": "markdown",
   "metadata": {},
   "source": [
    "**Extra Credit (1 point):** Execute the cell below to view an interesting bit of output. Now that we've run our experiment, how would you interpret the C_CONTIGUOUS and F_CONTIGUOUS flags? Do these values make sense with our findings from Problem 4?"
   ]
  },
  {
   "cell_type": "code",
   "execution_count": null,
   "metadata": {},
   "outputs": [],
   "source": [
    "# An interesting bit of output to look at. Now that we've run our experiment, \n",
    "# how would you interpret the flags?\n",
    "import numpy as np\n",
    "A = np.ones((5,5))\n",
    "A.flags"
   ]
  },
  {
   "cell_type": "code",
   "execution_count": null,
   "metadata": {},
   "outputs": [],
   "source": []
  }
 ],
 "metadata": {
  "kernelspec": {
   "display_name": "Python 3 (ipykernel)",
   "language": "python",
   "name": "python3"
  },
  "language_info": {
   "codemirror_mode": {
    "name": "ipython",
    "version": 3
   },
   "file_extension": ".py",
   "mimetype": "text/x-python",
   "name": "python",
   "nbconvert_exporter": "python",
   "pygments_lexer": "ipython3",
   "version": "3.9.6"
  }
 },
 "nbformat": 4,
 "nbformat_minor": 4
}
