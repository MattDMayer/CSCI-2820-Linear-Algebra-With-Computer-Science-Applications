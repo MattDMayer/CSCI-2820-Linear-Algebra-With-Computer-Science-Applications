{
 "cells": [
  {
   "cell_type": "markdown",
   "metadata": {},
   "source": [
    "---\n",
    "## Homework 10 - QR Factorization \n",
    "---\n"
   ]
  },
  {
   "cell_type": "markdown",
   "metadata": {},
   "source": [
    "### Problem 1:  \n",
    "\n",
    "**PART A:** Fill in the function given below to find the QR factorization of a matrix $A$.\n"
   ]
  },
  {
   "cell_type": "code",
   "execution_count": 4,
   "metadata": {},
   "outputs": [],
   "source": [
    "import numpy as np\n",
    "\n",
    "def qr(A):\n",
    "    # This function takes a single input: a matrix A stored as a 2-d numpy array.\n",
    "    # Your function can assume that A has independent columns.\n",
    "    \n",
    "    # qr(A) should return a pair of matrices (Q, R) such that:\n",
    "    # If A is NxK, Q is NxK and R is KxK\n",
    "    # Q is orthogonal\n",
    "    # R is upper triangular\n",
    "    # Q*R = A\n",
    "    \n",
    "\n",
    "    n, m = A.shape # get the shape of A\n",
    "\n",
    "    Q = np.empty((n, n)) # initialize matrix Q\n",
    "    u = np.empty((n, n)) # initialize matrix u\n",
    "\n",
    "    u[:, 0] = A[:, 0]\n",
    "    Q[:, 0] = u[:, 0] / np.linalg.norm(u[:, 0])\n",
    "\n",
    "    for i in range(1, n):\n",
    "\n",
    "        u[:, i] = A[:, i]\n",
    "        for j in range(i):\n",
    "            u[:, i] -= (A[:, i] @ Q[:, j]) * Q[:, j] # get each u vector\n",
    "\n",
    "        Q[:, i] = u[:, i] / np.linalg.norm(u[:, i]) # compute each e vetor\n",
    "\n",
    "    R = np.zeros((n, m))\n",
    "    for i in range(n):\n",
    "        for j in range(i, m):\n",
    "            R[i, j] = A[:, j] @ Q[:, i]\n",
    "\n",
    "    \n",
    "    return (Q, R)\n",
    "#Code from https://python.quantecon.org/qr_decomp.html"
   ]
  },
  {
   "cell_type": "markdown",
   "metadata": {},
   "source": [
    "**PART B:** Test your function from **1(A)** on the following matrix:\n",
    "\n",
    "$$ A = \\begin{bmatrix} 0 & 1 & 2 \\\\ 1 & 0 & 1 \\\\ 1 & 1 & 0 \\end{bmatrix} $$\n",
    "\n",
    "Note that we found the $QR$ decomposition of this particular matrix by hand in HW9, so you can check your output."
   ]
  },
  {
   "cell_type": "code",
   "execution_count": 5,
   "metadata": {},
   "outputs": [
    {
     "name": "stdout",
     "output_type": "stream",
     "text": [
      "Q = [[ 0.          0.81649658  0.57735027]\n",
      " [ 0.70710678 -0.40824829  0.57735027]\n",
      " [ 0.70710678  0.40824829 -0.57735027]]\n",
      "R = [[1.41421356 0.70710678 0.70710678]\n",
      " [0.         1.22474487 1.22474487]\n",
      " [0.         0.         1.73205081]]\n"
     ]
    }
   ],
   "source": [
    "# Call function using matrix A\n",
    "A=np.array([[0,1,2],[1,0,1],[1,1,0]])\n",
    "Q,R=qr(A)\n",
    "print('Q =',Q)\n",
    "print('R =', R)"
   ]
  },
  {
   "cell_type": "markdown",
   "metadata": {},
   "source": [
    "### Problem 2:  \n",
    "\n",
    "**PART A:** Fill in the function given below to use the back substitution algorithm."
   ]
  },
  {
   "cell_type": "code",
   "execution_count": 6,
   "metadata": {},
   "outputs": [],
   "source": [
    "import numpy as np\n",
    "def back_substitute(R, b):\n",
    "    \"\"\"This function takes two inputs:\n",
    "    + Matrix R stored as a 2-d numpy array.  Your function can assume that R is upper-triangular with nonzero diagonal.\n",
    "    + Vector b stored as a 1-d numpy vector.\n",
    "\n",
    "    This function should return a vector x such that R * x = b.\n",
    "\n",
    "    Don't use a numpy solve function for this.\n",
    "    Follow the textbook algorithm 11.1 \"Back substitution\".\n",
    "    \"\"\"\n",
    "    x=[]\n",
    "    for k in range(len(b)):\n",
    "        x.append(0)\n",
    "    for i in range(len(b)-1,-1,-1):\n",
    "        temp=b[i]\n",
    "        for j in range(len(b)-1,i,-1):\n",
    "            temp -=(x[j]*R[i,j])\n",
    "        x[i] = temp/R[i,i]\n",
    "    return x"
   ]
  },
  {
   "cell_type": "code",
   "execution_count": 7,
   "metadata": {},
   "outputs": [
    {
     "name": "stdout",
     "output_type": "stream",
     "text": [
      "[-1.0, -1.0, 1.0]\n"
     ]
    }
   ],
   "source": [
    "R=np.array([[1,1,2],[0,1,1],[0,0,3]])\n",
    "b = [0,0,3]\n",
    "print(back_substitute(R,b))"
   ]
  },
  {
   "cell_type": "markdown",
   "metadata": {
    "tags": []
   },
   "source": [
    "**PART B:** Test your function from **2(A)** on the following linear system:\n",
    "\n",
    "$$ \\begin{bmatrix} 1 & 1 & 2 \\\\ 0 & 1 & 1 \\\\ 0 & 0 & 3 \\end{bmatrix}\\textbf{x} = \\begin{bmatrix} 0 \\\\ 0 \\\\ 3 \\end{bmatrix} $$"
   ]
  },
  {
   "cell_type": "markdown",
   "metadata": {},
   "source": [
    "### Problem 3:  \n",
    "\n",
    "**PART A:** Fill in the function given below to use the solving linear equations via QR factorization algorithm."
   ]
  },
  {
   "cell_type": "code",
   "execution_count": 31,
   "metadata": {},
   "outputs": [],
   "source": [
    "import numpy as np\n",
    "def solve(A, b):\n",
    "    \"\"\"This function takes two inputs:\n",
    "    + Matrix A stored as a 2-d numpy array.  Your function can assume that A has independent columns.\n",
    "    + Vector b stored as a 1-d numpy vector.\n",
    "\n",
    "    This function should return a vector x such that A * x = b.\n",
    "\n",
    "    You MUST use your qr() and back_substitute() functions to solve this linear system.\n",
    "    Follow the textbook algorithm 11.2 \"Solving linear equations via QR factorization\".\n",
    "    \"\"\"\n",
    "    Q, R=qr(A)\n",
    "    QT = np.transpose(Q)\n",
    "    QTB = np.dot(QT,b)\n",
    "    x=back_substitute(R,QTB)\n",
    "    return x"
   ]
  },
  {
   "cell_type": "markdown",
   "metadata": {},
   "source": [
    "**PART B:** Test your function from **3(A)** on the following linear system:\n",
    "\n",
    "$$ \\begin{bmatrix} 0 & 1 & 2 \\\\ 1 & 0 & 1 \\\\ 1 & 1 & 0 \\end{bmatrix}\\textbf{x} = \\begin{bmatrix} 0 \\\\ 0 \\\\ 3 \\end{bmatrix} $$\n",
    "\n"
   ]
  },
  {
   "cell_type": "code",
   "execution_count": 32,
   "metadata": {},
   "outputs": [
    {
     "name": "stdout",
     "output_type": "stream",
     "text": [
      "[1.0000000000000002, 2.0000000000000004, -1.0000000000000004]\n"
     ]
    }
   ],
   "source": [
    "A = np.array([[0,1,2], [1,0,1], [1,1,0]])\n",
    "b = [0,0,3]\n",
    "print(solve(A,b))"
   ]
  },
  {
   "cell_type": "code",
   "execution_count": null,
   "metadata": {},
   "outputs": [],
   "source": []
  }
 ],
 "metadata": {
  "kernelspec": {
   "display_name": "Python 3 (ipykernel)",
   "language": "python",
   "name": "python3"
  },
  "language_info": {
   "codemirror_mode": {
    "name": "ipython",
    "version": 3
   },
   "file_extension": ".py",
   "mimetype": "text/x-python",
   "name": "python",
   "nbconvert_exporter": "python",
   "pygments_lexer": "ipython3",
   "version": "3.9.6"
  }
 },
 "nbformat": 4,
 "nbformat_minor": 4
}
